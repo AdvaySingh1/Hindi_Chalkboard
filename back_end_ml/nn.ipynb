{
 "cells": [
  {
   "cell_type": "code",
   "execution_count": 3,
   "metadata": {},
   "outputs": [],
   "source": [
    "import pandas as pd\n",
    "import numpy as np\n",
    "import math\n",
    "import os"
   ]
  },
  {
   "cell_type": "code",
   "execution_count": 2,
   "metadata": {},
   "outputs": [],
   "source": [
    "data_url = 'https://www.kaggle.com/datasets/suvooo/hindi-character-recognition/data'\n",
    "train_files = os.path.join(data_url, '/train')\n",
    "test_files = os.path.join(data_url, '/test')"
   ]
  },
  {
   "cell_type": "code",
   "execution_count": 11,
   "metadata": {},
   "outputs": [],
   "source": [
    "#df = df.drop(columns= [\"Unnamed: 0\"])"
   ]
  },
  {
   "cell_type": "code",
   "execution_count": 3,
   "metadata": {},
   "outputs": [
    {
     "name": "stdout",
     "output_type": "stream",
     "text": [
      "0.04742587317756678\n"
     ]
    }
   ],
   "source": [
    "# Sigmoid Function\n",
    "def Sigmoid (z: float) -> float:\n",
    "    return 1/ (1 + math.exp(z))\n",
    "\n",
    "\n",
    "\n",
    "# Softmax Function\n",
    "\n",
    "# d Softmax (Jacobian Matrix)\n",
    "\n",
    "\n",
    "print(Sigmoid(3))"
   ]
  }
 ],
 "metadata": {
  "kernelspec": {
   "display_name": "Python 3",
   "language": "python",
   "name": "python3"
  },
  "language_info": {
   "codemirror_mode": {
    "name": "ipython",
    "version": 3
   },
   "file_extension": ".py",
   "mimetype": "text/x-python",
   "name": "python",
   "nbconvert_exporter": "python",
   "pygments_lexer": "ipython3",
   "version": "3.9.6"
  }
 },
 "nbformat": 4,
 "nbformat_minor": 2
}
