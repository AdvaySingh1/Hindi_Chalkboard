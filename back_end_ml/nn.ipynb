{
 "cells": [
  {
   "cell_type": "code",
   "execution_count": 65,
   "metadata": {},
   "outputs": [],
   "source": [
    "import pandas as pd\n",
    "import numpy as np\n",
    "import math\n",
    "import os\n",
    "\n",
    "# import for time, and file change\n",
    "import json\n",
    "from PIL import Image\n",
    "\n",
    "# frequent updating\n",
    "import time\n",
    "import random"
   ]
  },
  {
   "cell_type": "code",
   "execution_count": 66,
   "metadata": {},
   "outputs": [],
   "source": [
    "# define filepaths\n",
    "workspace = \"/Users/advaysingh/Documents/projects/hindi_classification/\" \n",
    "#print(\"Current workspace:\", workspace)\n",
    "\n",
    "data = os.path.join(workspace, 'data/Hindi/')\n",
    "dict_lib = os.path.join(workspace, 'data/dict.csv')\n",
    "img_path = os.path.join(workspace, 'server/snapshot.png')\n",
    "out_file = os.path.join(workspace, 'server/outputs.json')\n"
   ]
  },
  {
   "cell_type": "code",
   "execution_count": 67,
   "metadata": {},
   "outputs": [
    {
     "data": {
      "text/html": [
       "<div>\n",
       "<style scoped>\n",
       "    .dataframe tbody tr th:only-of-type {\n",
       "        vertical-align: middle;\n",
       "    }\n",
       "\n",
       "    .dataframe tbody tr th {\n",
       "        vertical-align: top;\n",
       "    }\n",
       "\n",
       "    .dataframe thead th {\n",
       "        text-align: right;\n",
       "    }\n",
       "</style>\n",
       "<table border=\"1\" class=\"dataframe\">\n",
       "  <thead>\n",
       "    <tr style=\"text-align: right;\">\n",
       "      <th></th>\n",
       "      <th>0</th>\n",
       "    </tr>\n",
       "  </thead>\n",
       "  <tbody>\n",
       "    <tr>\n",
       "      <th>/Users/advaysingh/Documents/projects/hindi_classification/data/Hindi/Train/character_29_waw/26446.png</th>\n",
       "      <td>0</td>\n",
       "    </tr>\n",
       "    <tr>\n",
       "      <th>/Users/advaysingh/Documents/projects/hindi_classification/data/Hindi/Train/character_29_waw/62562.png</th>\n",
       "      <td>0</td>\n",
       "    </tr>\n",
       "    <tr>\n",
       "      <th>/Users/advaysingh/Documents/projects/hindi_classification/data/Hindi/Train/character_29_waw/74300.png</th>\n",
       "      <td>0</td>\n",
       "    </tr>\n",
       "    <tr>\n",
       "      <th>/Users/advaysingh/Documents/projects/hindi_classification/data/Hindi/Train/character_29_waw/86182.png</th>\n",
       "      <td>0</td>\n",
       "    </tr>\n",
       "    <tr>\n",
       "      <th>/Users/advaysingh/Documents/projects/hindi_classification/data/Hindi/Train/character_29_waw/62576.png</th>\n",
       "      <td>0</td>\n",
       "    </tr>\n",
       "  </tbody>\n",
       "</table>\n",
       "</div>"
      ],
      "text/plain": [
       "                                                    0\n",
       "/Users/advaysingh/Documents/projects/hindi_clas...  0\n",
       "/Users/advaysingh/Documents/projects/hindi_clas...  0\n",
       "/Users/advaysingh/Documents/projects/hindi_clas...  0\n",
       "/Users/advaysingh/Documents/projects/hindi_clas...  0\n",
       "/Users/advaysingh/Documents/projects/hindi_clas...  0"
      ]
     },
     "execution_count": 67,
     "metadata": {},
     "output_type": "execute_result"
    }
   ],
   "source": [
    "# create train/test dicts with files and labels\n",
    "\n",
    "def create_dict(x: str) -> dict:\n",
    "    x_dict = {}\n",
    "    i = 0\n",
    "    for dir in os.listdir(os.path.join(data, x)):\n",
    "        for file in os.listdir(os.path.join(data, x, dir)):\n",
    "            x_dict[os.path.join(data, x, dir, file)] = i\n",
    "        i += 1\n",
    "    return x_dict\n",
    "\n",
    "# make pandas df\n",
    "\n",
    "train_df = pd.DataFrame.from_dict(create_dict('Train'), orient='index')\n",
    "test_df = pd.DataFrame.from_dict(create_dict('Test'), orient='index')\n",
    "\n",
    "train_df.head()"
   ]
  },
  {
   "cell_type": "code",
   "execution_count": 68,
   "metadata": {},
   "outputs": [
    {
     "name": "stdout",
     "output_type": "stream",
     "text": [
      "5.278698047466735e-102\n"
     ]
    }
   ],
   "source": [
    "# Activations class\n",
    "class Activation:\n",
    "    # can add more types\n",
    "    def __init__(self, act_type: str) -> None:\n",
    "        self.act = act_type\n",
    "\n",
    "    def print_act(self) -> None:\n",
    "        return self.act\n",
    "    \n",
    "    def compute(self, z: float) -> float:\n",
    "\n",
    "        # Sigmoid function\n",
    "        if (self.act == 'sigmoid'):\n",
    "            return 1 / (1 + math.exp(z))\n",
    "        \n",
    "        # ReLU function\n",
    "        elif (self.act == 'relu'):\n",
    "            if (z < 0): return 0\n",
    "            return z\n",
    "\n",
    "    def prime(self, z: float) -> float:\n",
    "\n",
    "        # Sigmoid prime\n",
    "        if (self.act == 'sigmoid'):\n",
    "            return (self.compute(z))(1 - self.compute(z))\n",
    "        \n",
    "        # ReLU prime\n",
    "        if (self.act == 'relu'):\n",
    "            if (z < 0): return 0\n",
    "            return 1\n",
    "\n",
    "\n",
    "def softmax(i: int, costs: list) -> float:\n",
    "    return costs[i] / sum(costs)\n",
    "\n",
    "def softmax_prime(i: int, costs: list) -> float:\n",
    "    softmax(i, costs)(1 - softmax(i, costs))\n",
    "\n",
    "\n",
    "    \n",
    "a = Activation('sigmoid')\n",
    "\n",
    "print(a.compute(233.2))"
   ]
  },
  {
   "cell_type": "code",
   "execution_count": 69,
   "metadata": {},
   "outputs": [],
   "source": [
    "class Model:\n",
    "    def __init__(self, train_df: pd.DataFrame, test_df: pd.DataFrame,\n",
    "                  act: Activation, layers: int, step: float, stochastic: bool) -> None:\n",
    "        self.train_df = train_df\n",
    "        self.test_df = test_df\n",
    "\n",
    "        # create activation function\n",
    "        self.activation = act\n",
    "\n",
    "        # init weight and bias with # layers np arrays\n",
    "        self.weight_arrs = [None] * layers\n",
    "        self.bias_arrs = [None] * layers\n",
    "\n",
    "        # init learn speed\n",
    "        self.speed = step\n",
    "\n",
    "        # determine gradient decent type\n",
    "        self.stochastic = stochastic\n",
    "\n",
    "    def img_to_np(self, dir) -> np.array:\n",
    "        return np.array(Image.open(dir)).flatten()\n",
    "    \n",
    "    def print_img(self) -> None:\n",
    "        for img_dir, row in self.train_df.iterrows():\n",
    "            print(self.img_to_np(img_dir), row[0])\n",
    "    \n",
    "\n",
    "\n"
   ]
  },
  {
   "cell_type": "code",
   "execution_count": 70,
   "metadata": {},
   "outputs": [
    {
     "name": "stdout",
     "output_type": "stream",
     "text": [
      "[0 0 0 ... 0 0 0] 0\n",
      "[0 0 0 ... 0 0 0] 0\n",
      "[0 0 0 ... 0 0 0] 0\n",
      "[0 0 0 ... 0 0 0] 0\n",
      "[0 0 0 ... 0 0 0] 0\n"
     ]
    }
   ],
   "source": [
    "cnn = Model(train_df.head(), test_df.head(), Activation('sigmoid'), 3, 1.2, False)\n",
    "cnn.print_img()"
   ]
  },
  {
   "cell_type": "code",
   "execution_count": 71,
   "metadata": {},
   "outputs": [
    {
     "name": "stdout",
     "output_type": "stream",
     "text": [
      "(1024,)\n",
      "[0 0 0 ... 0 0 0]\n",
      "(1024,)\n",
      "[0 0 0 ... 0 0 0]\n",
      "(1024,)\n",
      "[0 0 0 ... 0 0 0]\n",
      "(1024,)\n",
      "[0 0 0 ... 0 0 0]\n",
      "(1024,)\n",
      "[0 0 0 ... 0 0 0]\n",
      "(1024,)\n",
      "[67 11 10 ...  0  0  0]\n",
      "Update stopped by user.\n"
     ]
    }
   ],
   "source": [
    "import json\n",
    "import time\n",
    "import random\n",
    "\n",
    "from PIL import Image\n",
    "\n",
    "\n",
    "def update_json_file(hindi_value, english_value):\n",
    "    with open(out_file, 'r') as file:\n",
    "        data = json.load(file)\n",
    "    data['hindi'] = hindi_value\n",
    "    data['english'] = english_value\n",
    "    with open(out_file, 'w') as file:\n",
    "        json.dump(data, file, indent=4)\n",
    "\n",
    "# Define a list of possible values if applicable\n",
    "hindi_values = [\"हिं\", \"नया\", \"मूल्य\", \"उदाहरण\"]\n",
    "english_values = [\"Eng\", \"New\", \"Value\", \"Example\"]\n",
    "\n",
    "# Loop to update the JSON file every second with a random value\n",
    "try:\n",
    "    while True:\n",
    "        # Generate a random value from the lists\n",
    "        new_hindi_value = random.choice(hindi_values)\n",
    "        new_english_value = random.choice(english_values)\n",
    "\n",
    "        update_json_file(new_hindi_value, new_english_value)\n",
    "        \n",
    "        # Print the new values (for debug purposes)\n",
    "        # print(f'Updated JSON file with hindi: {new_hindi_value}, english: {new_english_value}')\n",
    "\n",
    "        # read in and resize img\n",
    "        img = Image.open(img_path).convert(\"L\").resize((32, 32))\n",
    " \n",
    "        # read in image for debugging\n",
    "        \"\"\"img.show(\"img to classify\")\n",
    "        print(img.format)\n",
    "        print(img.mode)\n",
    "        print(img.size)\"\"\"\n",
    "\n",
    "        # create np array and resize\n",
    "        img_data = np.array(img).flatten()\n",
    "        print(img_data.shape)\n",
    "        print(img_data)\n",
    "\n",
    "        \n",
    "        time.sleep(10)  # Wait for 1 second\n",
    "except KeyboardInterrupt:\n",
    "    print(\"Update stopped by user.\")"
   ]
  }
 ],
 "metadata": {
  "kernelspec": {
   "display_name": "Python 3",
   "language": "python",
   "name": "python3"
  },
  "language_info": {
   "codemirror_mode": {
    "name": "ipython",
    "version": 3
   },
   "file_extension": ".py",
   "mimetype": "text/x-python",
   "name": "python",
   "nbconvert_exporter": "python",
   "pygments_lexer": "ipython3",
   "version": "3.9.6"
  }
 },
 "nbformat": 4,
 "nbformat_minor": 2
}
