{
 "cells": [
  {
   "cell_type": "code",
   "execution_count": 3,
   "metadata": {},
   "outputs": [],
   "source": [
    "import pandas as pd\n",
    "import numpy as np\n",
    "import math\n",
    "import os"
   ]
  },
  {
   "cell_type": "code",
   "execution_count": 7,
   "metadata": {},
   "outputs": [
    {
     "ename": "FileNotFoundError",
     "evalue": "[Errno 2] No such file or directory: '/Train'",
     "output_type": "error",
     "traceback": [
      "\u001b[0;31m---------------------------------------------------------------------------\u001b[0m",
      "\u001b[0;31mFileNotFoundError\u001b[0m                         Traceback (most recent call last)",
      "Cell \u001b[0;32mIn[7], line 4\u001b[0m\n\u001b[1;32m      2\u001b[0m train_files \u001b[38;5;241m=\u001b[39m os\u001b[38;5;241m.\u001b[39mpath\u001b[38;5;241m.\u001b[39mjoin(data_url, \u001b[38;5;124m'\u001b[39m\u001b[38;5;124m/Train\u001b[39m\u001b[38;5;124m'\u001b[39m)\n\u001b[1;32m      3\u001b[0m test_files \u001b[38;5;241m=\u001b[39m os\u001b[38;5;241m.\u001b[39mpath\u001b[38;5;241m.\u001b[39mjoin(data_url, \u001b[38;5;124m'\u001b[39m\u001b[38;5;124m/Test\u001b[39m\u001b[38;5;124m'\u001b[39m)\n\u001b[0;32m----> 4\u001b[0m classes \u001b[38;5;241m=\u001b[39m \u001b[43mos\u001b[49m\u001b[38;5;241;43m.\u001b[39;49m\u001b[43mlistdir\u001b[49m\u001b[43m(\u001b[49m\u001b[43mtrain_files\u001b[49m\u001b[43m)\u001b[49m\n\u001b[1;32m      5\u001b[0m classes\u001b[38;5;241m.\u001b[39mhead()\n",
      "\u001b[0;31mFileNotFoundError\u001b[0m: [Errno 2] No such file or directory: '/Train'"
     ]
    }
   ],
   "source": [
    "data_url = 'https://www.kaggle.com/datasets/suvooo/hindi-character-recognition/data'\n",
    "train_files = os.path.join(data_url, '/Train')\n",
    "test_files = os.path.join(data_url, '/Test')\n",
    "classes = os.listdir(train_files)\n",
    "classes.head()"
   ]
  },
  {
   "cell_type": "code",
   "execution_count": 6,
   "metadata": {},
   "outputs": [
    {
     "ename": "ModuleNotFoundError",
     "evalue": "No module named 'requests'",
     "output_type": "error",
     "traceback": [
      "\u001b[0;31m---------------------------------------------------------------------------\u001b[0m",
      "\u001b[0;31mModuleNotFoundError\u001b[0m                       Traceback (most recent call last)",
      "Cell \u001b[0;32mIn[6], line 2\u001b[0m\n\u001b[1;32m      1\u001b[0m \u001b[38;5;28;01mimport\u001b[39;00m \u001b[38;5;21;01mos\u001b[39;00m\n\u001b[0;32m----> 2\u001b[0m \u001b[38;5;28;01mimport\u001b[39;00m \u001b[38;5;21;01mrequests\u001b[39;00m\n\u001b[1;32m      3\u001b[0m \u001b[38;5;28;01mfrom\u001b[39;00m \u001b[38;5;21;01mtqdm\u001b[39;00m \u001b[38;5;28;01mimport\u001b[39;00m tqdm  \u001b[38;5;66;03m# (Optional) Provides a progress bar\u001b[39;00m\n\u001b[1;32m      5\u001b[0m \u001b[38;5;66;03m# Function to recursively create directories and download files\u001b[39;00m\n",
      "\u001b[0;31mModuleNotFoundError\u001b[0m: No module named 'requests'"
     ]
    }
   ],
   "source": [
    "import os\n",
    "import requests\n",
    "from tqdm import tqdm  # (Optional) Provides a progress bar\n",
    "\n",
    "# Function to recursively create directories and download files\n",
    "def download_files(root_url, root_path):\n",
    "    # Some code or function that knows how to list directories and files\n",
    "    # In the following code, files_structure is a placeholder for your file structure\n",
    "    # This needs to be replaced by actual code that retrieves the file structure.\n",
    "    # It could be a call to REST API, or it could be scraping a webpage, etc.\n",
    "    files_structure = get_files_structure(root_url)\n",
    "\n",
    "    for path, files in files_structure.items():\n",
    "        # Create a corresponding local directory\n",
    "        local_directory = os.path.join(root_path, path)\n",
    "        os.makedirs(local_directory, exist_ok=True)\n",
    "\n",
    "        for file in tqdm(files):\n",
    "            file_url = f\"{root_url}/{path}/{file}\"\n",
    "            local_file_path = os.path.join(local_directory, file)\n",
    "            \n",
    "            # Check if file already exists to avoid re-downloading\n",
    "            if not os.path.exists(local_file_path):\n",
    "                try:\n",
    "                    # Download the file\n",
    "                    response = requests.get(file_url, stream=True)\n",
    "                    if response.status_code == 200:\n",
    "                        with open(local_file_path, 'wb') as f:\n",
    "                            for chunk in response.iter_content(chunk_size=8192):\n",
    "                                f.write(chunk)\n",
    "                        print(f\"Downloaded {local_file_path}\")\n",
    "                    else:\n",
    "                        print(f\"Failed to download {file_url}\")\n",
    "                except Exception as e:\n",
    "                    print(f\"An error occurred while downloading {file_url}: {e}\")"
   ]
  },
  {
   "cell_type": "code",
   "execution_count": 11,
   "metadata": {},
   "outputs": [],
   "source": [
    "#df = df.drop(columns= [\"Unnamed: 0\"])"
   ]
  },
  {
   "cell_type": "code",
   "execution_count": 3,
   "metadata": {},
   "outputs": [
    {
     "name": "stdout",
     "output_type": "stream",
     "text": [
      "0.04742587317756678\n"
     ]
    }
   ],
   "source": [
    "# Sigmoid Function\n",
    "def Sigmoid (z: float) -> float:\n",
    "    return 1/ (1 + math.exp(z))\n",
    "\n",
    "\n",
    "\n",
    "# Softmax Function\n",
    "\n",
    "# d Softmax (Jacobian Matrix)\n",
    "\n",
    "\n",
    "print(Sigmoid(3))"
   ]
  }
 ],
 "metadata": {
  "kernelspec": {
   "display_name": "Python 3",
   "language": "python",
   "name": "python3"
  },
  "language_info": {
   "codemirror_mode": {
    "name": "ipython",
    "version": 3
   },
   "file_extension": ".py",
   "mimetype": "text/x-python",
   "name": "python",
   "nbconvert_exporter": "python",
   "pygments_lexer": "ipython3",
   "version": "3.9.6"
  }
 },
 "nbformat": 4,
 "nbformat_minor": 2
}
