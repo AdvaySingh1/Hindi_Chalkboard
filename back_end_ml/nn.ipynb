{
 "cells": [
  {
   "cell_type": "code",
   "execution_count": 3,
   "metadata": {},
   "outputs": [],
   "source": [
    "import pandas as pd\n",
    "import numpy as np\n",
    "import math\n",
    "import os"
   ]
  },
  {
   "cell_type": "code",
   "execution_count": 3,
   "metadata": {},
   "outputs": [],
   "source": [
    "import json\n",
    "import time\n",
    "import random\n",
    "\n",
    "out_file = '/Users/advaysingh/Documents/projects/hindi_classification/server/outputs.json'\n",
    "\n",
    "def update_json_file(hindi_value, english_value):\n",
    "    with open(out_file, 'r') as file:\n",
    "        data = json.load(file)\n",
    "    data['hindi'] = hindi_value\n",
    "    data['english'] = english_value\n",
    "    with open(out_file, 'w') as file:\n",
    "        json.dump(data, file, indent=4)\n",
    "\n",
    "# Define a list of possible values if applicable\n",
    "hindi_values = [\"हिं\", \"नया\", \"मूल्य\", \"उदाहरण\"]\n",
    "english_values = [\"Eng\", \"New\", \"Value\", \"Example\"]\n",
    "\n",
    "# Loop to update the JSON file every second with a random value\n",
    "try:\n",
    "    while True:\n",
    "        # Generate a random value from the lists\n",
    "        new_hindi_value = random.choice(hindi_values)\n",
    "        new_english_value = random.choice(english_values)\n",
    "\n",
    "        update_json_file(new_hindi_value, new_english_value)\n",
    "        \n",
    "        # Print the new values (for debug purposes)\n",
    "        print(f'Updated JSON file with hindi: {new_hindi_value}, english: {new_english_value}')\n",
    "        \n",
    "        time.sleep(1)  # Wait for 1 second\n",
    "except KeyboardInterrupt:\n",
    "    print(\"Update stopped by user.\")"
   ]
  },
  {
   "cell_type": "code",
   "execution_count": 3,
   "metadata": {},
   "outputs": [
    {
     "name": "stdout",
     "output_type": "stream",
     "text": [
      "0.04742587317756678\n"
     ]
    }
   ],
   "source": [
    "# Sigmoid Function\n",
    "def Sigmoid (z: float) -> float:\n",
    "    return 1/ (1 + math.exp(z))\n",
    "\n",
    "\n",
    "\n",
    "# Softmax Function\n",
    "\n",
    "# d Softmax (Jacobian Matrix)\n",
    "\n",
    "\n",
    "print(Sigmoid(3))"
   ]
  }
 ],
 "metadata": {
  "kernelspec": {
   "display_name": "Python 3",
   "language": "python",
   "name": "python3"
  },
  "language_info": {
   "codemirror_mode": {
    "name": "ipython",
    "version": 3
   },
   "file_extension": ".py",
   "mimetype": "text/x-python",
   "name": "python",
   "nbconvert_exporter": "python",
   "pygments_lexer": "ipython3",
   "version": "3.9.6"
  }
 },
 "nbformat": 4,
 "nbformat_minor": 2
}
